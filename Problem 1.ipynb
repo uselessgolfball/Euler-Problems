{
 "cells": [
  {
   "cell_type": "code",
   "execution_count": 12,
   "metadata": {},
   "outputs": [
    {
     "name": "stdout",
     "output_type": "stream",
     "text": [
      "233168\n"
     ]
    }
   ],
   "source": [
    "#create set of multiples of 3 and 5 < 1000\n",
    "multiples_3_5 = set({})\n",
    "\n",
    "##create set of multiples of 3 < 1000\n",
    "multiples_3 = set({})\n",
    "for i in range(0,1000,3):\n",
    "    multiples_3.add(i)\n",
    "\n",
    "##create set of multiples of 5 < 1000\n",
    "multiples_5 = set({})\n",
    "for i in range(0,1000,5):\n",
    "    multiples_5.add(i)\n",
    "\n",
    "##take union of lists\n",
    "multiples_3_5 = (multiples_3 | multiples_5)\n",
    "\n",
    "#sum multiples\n",
    "count = 0\n",
    "for i in multiples_3_5:\n",
    "    count += i\n",
    "print(count)"
   ]
  },
  {
   "cell_type": "code",
   "execution_count": 14,
   "metadata": {},
   "outputs": [
    {
     "data": {
      "text/plain": [
       "233168"
      ]
     },
     "execution_count": 14,
     "metadata": {},
     "output_type": "execute_result"
    }
   ],
   "source": [
    "# other option\n",
    "limit = 999\n",
    "\n",
    "def SumDivisibleBy(n):\n",
    "    p = limit // n\n",
    "    return n*p*(p+1)//2\n",
    "\n",
    "SumDivisibleBy(3) + SumDivisibleBy(5) - SumDivisibleBy(15)"
   ]
  },
  {
   "cell_type": "code",
   "execution_count": null,
   "metadata": {},
   "outputs": [],
   "source": []
  }
 ],
 "metadata": {
  "kernelspec": {
   "display_name": "Python 3",
   "language": "python",
   "name": "python3"
  },
  "language_info": {
   "codemirror_mode": {
    "name": "ipython",
    "version": 3
   },
   "file_extension": ".py",
   "mimetype": "text/x-python",
   "name": "python",
   "nbconvert_exporter": "python",
   "pygments_lexer": "ipython3",
   "version": "3.7.0"
  }
 },
 "nbformat": 4,
 "nbformat_minor": 2
}
