{
 "cells": [
  {
   "cell_type": "markdown",
   "metadata": {},
   "source": [
    "\n",
    "\n",
    "By listing the first six prime numbers: 2, 3, 5, 7, 11, and 13, we can see that the 6th prime is 13.\n",
    "\n",
    "What is the 10 001st prime number?\n"
   ]
  },
  {
   "cell_type": "code",
   "execution_count": 13,
   "metadata": {},
   "outputs": [],
   "source": [
    "def isPrime(n):\n",
    "    prime = True\n",
    "    i = 2\n",
    "    # Slow method of checking primes\n",
    "    while n**0.5+1 > i:\n",
    "        if n%i == 0:\n",
    "            prime = False\n",
    "            break\n",
    "        else:\n",
    "            i += 1\n",
    "    return prime"
   ]
  },
  {
   "cell_type": "code",
   "execution_count": 16,
   "metadata": {},
   "outputs": [],
   "source": [
    "def nthPrime(n):\n",
    "    count = 0\n",
    "    i = 1\n",
    "\n",
    "    # Check if each number is prime and then iterate prime counter and number as applicable\n",
    "    while count < n:\n",
    "        if isPrime(i) == True:\n",
    "            count += 1\n",
    "            if count == n:\n",
    "                break\n",
    "        i += 1\n",
    "    \n",
    "    return i"
   ]
  },
  {
   "cell_type": "code",
   "execution_count": 22,
   "metadata": {},
   "outputs": [
    {
     "name": "stdout",
     "output_type": "stream",
     "text": [
      "104743\n",
      "Time:  1.3378299040000456\n"
     ]
    }
   ],
   "source": [
    "import timeit\n",
    "\n",
    "start = timeit.default_timer()\n",
    "\n",
    "print(nthPrime(10001))\n",
    "\n",
    "stop = timeit.default_timer()\n",
    "\n",
    "print('Time: ', stop - start)  "
   ]
  },
  {
   "cell_type": "code",
   "execution_count": 25,
   "metadata": {},
   "outputs": [],
   "source": [
    "def isPrimeList(n, prime_list):\n",
    "    prime = True\n",
    "    for i in prime_list:\n",
    "        if n%i == 0:\n",
    "            prime = False\n",
    "            break\n",
    "    return prime\n",
    "\n",
    "def slowNthPrime(n):\n",
    "    prime_list = [2]\n",
    "    count = 1\n",
    "    i = 2\n",
    "    \n",
    "    # Check if each number is prime against prime list\n",
    "    while count < n:\n",
    "        if isPrimeList(i, prime_list) == True:\n",
    "            count += 1\n",
    "            prime_list.append(i)\n",
    "            if count == n:\n",
    "                break\n",
    "        i += 1\n",
    "    \n",
    "    return i"
   ]
  },
  {
   "cell_type": "code",
   "execution_count": 26,
   "metadata": {},
   "outputs": [
    {
     "name": "stdout",
     "output_type": "stream",
     "text": [
      "104743\n",
      "Time:  2.60811956800012\n"
     ]
    }
   ],
   "source": [
    "start = timeit.default_timer()\n",
    "\n",
    "print(slowNthPrime(10001))\n",
    "\n",
    "stop = timeit.default_timer()\n",
    "\n",
    "print('Time: ', stop - start)  "
   ]
  },
  {
   "cell_type": "code",
   "execution_count": null,
   "metadata": {},
   "outputs": [],
   "source": []
  }
 ],
 "metadata": {
  "kernelspec": {
   "display_name": "Python 3",
   "language": "python",
   "name": "python3"
  },
  "language_info": {
   "codemirror_mode": {
    "name": "ipython",
    "version": 3
   },
   "file_extension": ".py",
   "mimetype": "text/x-python",
   "name": "python",
   "nbconvert_exporter": "python",
   "pygments_lexer": "ipython3",
   "version": "3.7.0"
  }
 },
 "nbformat": 4,
 "nbformat_minor": 2
}
