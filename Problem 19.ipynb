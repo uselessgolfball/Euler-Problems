{
 "cells": [
  {
   "cell_type": "markdown",
   "metadata": {},
   "source": [
    "\n",
    "\n",
    "You are given the following information, but you may prefer to do some research for yourself.\n",
    "\n",
    "    1 Jan 1900 was a Monday.\n",
    "    Thirty days has September,\n",
    "    April, June and November.\n",
    "    All the rest have thirty-one,\n",
    "    Saving February alone,\n",
    "    Which has twenty-eight, rain or shine.\n",
    "    And on leap years, twenty-nine.\n",
    "    A leap year occurs on any year evenly divisible by 4, but not on a century unless it is divisible by 400.\n",
    "\n",
    "How many Sundays fell on the first of the month during the twentieth century (1 Jan 1901 to 31 Dec 2000)?\n"
   ]
  },
  {
   "cell_type": "code",
   "execution_count": 9,
   "metadata": {},
   "outputs": [
    {
     "name": "stdout",
     "output_type": "stream",
     "text": [
      "36526 171\n"
     ]
    }
   ],
   "source": [
    "day = 2 # day was Tuesday, we want Sunday or when day % 7 =0\n",
    "months = [31,28,31,30,31,30,31,31,30,31,30,31] #num of days in a month\n",
    "leap_months = [31,29,31,30,31,30,31,31,30,31,30,31] #num of days in a month in leap year\n",
    "first_sundays = 0 # count of all first sundays\n",
    "\n",
    "\n",
    "for year in range(1901, 2001):\n",
    "   \n",
    "    if year % 4 != 0:\n",
    "        for luna in months:\n",
    "            if day % 7 == 0:\n",
    "                first_sundays += 1\n",
    "            day += luna\n",
    "    elif year % 4 == 0 and year == 2000:\n",
    "        for luna in months:\n",
    "            if day % 7 == 0:\n",
    "                first_sundays += 1\n",
    "            day += luna\n",
    "    else:\n",
    "        for luna in leap_months:\n",
    "            if day % 7 == 0:\n",
    "                first_sundays += 1\n",
    "            day += luna\n",
    "\n",
    "print(day, first_sundays)"
   ]
  },
  {
   "cell_type": "code",
   "execution_count": null,
   "metadata": {},
   "outputs": [],
   "source": []
  }
 ],
 "metadata": {
  "kernelspec": {
   "display_name": "Python 3",
   "language": "python",
   "name": "python3"
  },
  "language_info": {
   "codemirror_mode": {
    "name": "ipython",
    "version": 3
   },
   "file_extension": ".py",
   "mimetype": "text/x-python",
   "name": "python",
   "nbconvert_exporter": "python",
   "pygments_lexer": "ipython3",
   "version": "3.7.0"
  }
 },
 "nbformat": 4,
 "nbformat_minor": 2
}
