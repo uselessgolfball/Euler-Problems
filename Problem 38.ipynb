{
 "cells": [
  {
   "cell_type": "markdown",
   "metadata": {},
   "source": [
    "\n",
    "\n",
    "Take the number 192 and multiply it by each of 1, 2, and 3:\n",
    "\n",
    "    192 × 1 = 192\n",
    "    192 × 2 = 384\n",
    "    192 × 3 = 576\n",
    "\n",
    "By concatenating each product we get the 1 to 9 pandigital, 192384576. We will call 192384576 the concatenated product of 192 and (1,2,3)\n",
    "\n",
    "The same can be achieved by starting with 9 and multiplying by 1, 2, 3, 4, and 5, giving the pandigital, 918273645, which is the concatenated product of 9 and (1,2,3,4,5).\n",
    "\n",
    "What is the largest 1 to 9 pandigital 9-digit number that can be formed as the concatenated product of an integer with (1,2, ... , n) where n > 1?\n"
   ]
  },
  {
   "cell_type": "code",
   "execution_count": 1,
   "metadata": {},
   "outputs": [],
   "source": [
    "#Logic: to be greater than the given pandigital, must start with 9\n",
    "#Ergo, integer first digit must be 9\n",
    "#n < 5 (can't be larger b/c will overflow)\n",
    "#n != 4 (because integer must be of the form 9x, which will overflow (2,3,3,3 digits))\n",
    "#n != 3 (because integer must be of the form 9x or 9xx, which will overflow (2,3,3 digits or 3,4,4 digits))\n",
    "#n == 2 and integer is of form 9xxx, turns into 4,5 digits!\n",
    "\n",
    "#check all integers 9xxx to see if they are pandigital and take max"
   ]
  },
  {
   "cell_type": "code",
   "execution_count": 5,
   "metadata": {},
   "outputs": [],
   "source": [
    "#pandigital check function\n",
    "\n",
    "def checkPandigital(n):\n",
    "    digits = \"123456789\"\n",
    "    for c in digits:\n",
    "        if c not in str(n):\n",
    "            return False\n",
    "    return True"
   ]
  },
  {
   "cell_type": "code",
   "execution_count": 8,
   "metadata": {},
   "outputs": [
    {
     "name": "stdout",
     "output_type": "stream",
     "text": [
      "926718534\n",
      "927318546\n",
      "932718654\n"
     ]
    }
   ],
   "source": [
    "m_pan = 0\n",
    "\n",
    "for n in range(9000,9999):\n",
    "    test = int(str(n)+str(2*n))\n",
    "    if checkPandigital(test):\n",
    "        if test > m_pan:\n",
    "            m_pan = test\n",
    "            print(m_pan)"
   ]
  },
  {
   "cell_type": "code",
   "execution_count": 6,
   "metadata": {},
   "outputs": [],
   "source": [
    "abc = 3"
   ]
  },
  {
   "cell_type": "code",
   "execution_count": 7,
   "metadata": {},
   "outputs": [
    {
     "data": {
      "text/plain": [
       "'39'"
      ]
     },
     "execution_count": 7,
     "metadata": {},
     "output_type": "execute_result"
    }
   ],
   "source": [
    "str(abc)+str(3*abc)"
   ]
  },
  {
   "cell_type": "code",
   "execution_count": null,
   "metadata": {},
   "outputs": [],
   "source": []
  }
 ],
 "metadata": {
  "kernelspec": {
   "display_name": "Python 3",
   "language": "python",
   "name": "python3"
  },
  "language_info": {
   "codemirror_mode": {
    "name": "ipython",
    "version": 3
   },
   "file_extension": ".py",
   "mimetype": "text/x-python",
   "name": "python",
   "nbconvert_exporter": "python",
   "pygments_lexer": "ipython3",
   "version": "3.7.0"
  }
 },
 "nbformat": 4,
 "nbformat_minor": 2
}
