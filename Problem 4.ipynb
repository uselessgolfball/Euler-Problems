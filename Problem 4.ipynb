{
 "cells": [
  {
   "cell_type": "code",
   "execution_count": null,
   "metadata": {},
   "outputs": [],
   "source": [
    "#A palindromic number reads the same both ways. The largest palindrome made from the product of two 2-digit numbers is 9009 = 91 × 99.\n",
    "\n",
    "#Find the largest palindrome made from the product of two 3-digit numbers.\n"
   ]
  },
  {
   "cell_type": "code",
   "execution_count": 16,
   "metadata": {},
   "outputs": [],
   "source": [
    "def isPalindrome(n):\n",
    "    string = str(n)\n",
    "    #adjustment for how len() operates\n",
    "    length = len(string)-1\n",
    "    \n",
    "    #assumes palindrome unless otherwise found\n",
    "    palindrome = True\n",
    "    \n",
    "    for char in string:\n",
    "        if char != string[length-string.index(char)]:\n",
    "            palindrome = False\n",
    "    return palindrome\n",
    "    "
   ]
  },
  {
   "cell_type": "code",
   "execution_count": 21,
   "metadata": {},
   "outputs": [
    {
     "name": "stdout",
     "output_type": "stream",
     "text": [
      "906609\n"
     ]
    }
   ],
   "source": [
    "largestPalindrome = 9009\n",
    "\n",
    "for i in range(100,999):\n",
    "    for j in range(100,999):\n",
    "        if isPalindrome(i*j) and i*j > largestPalindrome:\n",
    "            largestPalindrome = i*j\n",
    "\n",
    "print(largestPalindrome)"
   ]
  },
  {
   "cell_type": "code",
   "execution_count": null,
   "metadata": {},
   "outputs": [],
   "source": []
  }
 ],
 "metadata": {
  "kernelspec": {
   "display_name": "Python 3",
   "language": "python",
   "name": "python3"
  },
  "language_info": {
   "codemirror_mode": {
    "name": "ipython",
    "version": 3
   },
   "file_extension": ".py",
   "mimetype": "text/x-python",
   "name": "python",
   "nbconvert_exporter": "python",
   "pygments_lexer": "ipython3",
   "version": "3.7.0"
  }
 },
 "nbformat": 4,
 "nbformat_minor": 2
}
