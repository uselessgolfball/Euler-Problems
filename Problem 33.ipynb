{
 "cells": [
  {
   "cell_type": "markdown",
   "metadata": {},
   "source": [
    "\n",
    "\n",
    "The fraction 49/98 is a curious fraction, as an inexperienced mathematician in attempting to simplify it may incorrectly believe that 49/98 = 4/8, which is correct, is obtained by cancelling the 9s.\n",
    "\n",
    "We shall consider fractions like, 30/50 = 3/5, to be trivial examples.\n",
    "\n",
    "There are exactly four non-trivial examples of this type of fraction, less than one in value, and containing two digits in the numerator and denominator.\n",
    "\n",
    "If the product of these four fractions is given in its lowest common terms, find the value of the denominator.\n"
   ]
  },
  {
   "cell_type": "code",
   "execution_count": 1,
   "metadata": {},
   "outputs": [],
   "source": [
    "# fractions must be of the form ai/ib where ai/ib = a/b and a,b,i cannot be 0 and a < b\n",
    "# identify all pairs by checking for combinations"
   ]
  },
  {
   "cell_type": "code",
   "execution_count": 12,
   "metadata": {},
   "outputs": [],
   "source": [
    "# check to see if curious fraction exists for a/b\n",
    "\n",
    "def curiousFraction(a,b):\n",
    "    cF = []\n",
    "    if a >= b:\n",
    "        #Cannot be greater than 1\n",
    "        return False\n",
    "    for i in range(1,10):\n",
    "        #Checks all options\n",
    "        ai = int(str(a)+str(i))\n",
    "        ib = int(str(i)+str(b))\n",
    "        if a/b == ai/ib:\n",
    "            cF.append([ai, ib])\n",
    "    if cF == []:\n",
    "        #if nothing found\n",
    "        return False\n",
    "    return cF"
   ]
  },
  {
   "cell_type": "code",
   "execution_count": 16,
   "metadata": {},
   "outputs": [],
   "source": [
    "# Go across all options\n",
    "\n",
    "cF = []\n",
    "\n",
    "for i in range(1,10):\n",
    "    for j in range(1,10):\n",
    "        if curiousFraction(i,j):\n",
    "            for pair in curiousFraction(i,j):\n",
    "                cF.append(pair)"
   ]
  },
  {
   "cell_type": "code",
   "execution_count": 17,
   "metadata": {},
   "outputs": [
    {
     "name": "stdout",
     "output_type": "stream",
     "text": [
      "[[16, 64], [19, 95], [26, 65], [49, 98]]\n"
     ]
    }
   ],
   "source": [
    "print(cF)"
   ]
  },
  {
   "cell_type": "code",
   "execution_count": 24,
   "metadata": {},
   "outputs": [
    {
     "name": "stdout",
     "output_type": "stream",
     "text": [
      "100.0\n"
     ]
    }
   ],
   "source": [
    "denom = 1\n",
    "\n",
    "for pair in cF:\n",
    "    denom *= pair[1]/pair[0]\n",
    "    #Flip the fraction and multiply across\n",
    "\n",
    "print(denom)"
   ]
  },
  {
   "cell_type": "code",
   "execution_count": null,
   "metadata": {},
   "outputs": [],
   "source": []
  }
 ],
 "metadata": {
  "kernelspec": {
   "display_name": "Python 3",
   "language": "python",
   "name": "python3"
  },
  "language_info": {
   "codemirror_mode": {
    "name": "ipython",
    "version": 3
   },
   "file_extension": ".py",
   "mimetype": "text/x-python",
   "name": "python",
   "nbconvert_exporter": "python",
   "pygments_lexer": "ipython3",
   "version": "3.7.0"
  }
 },
 "nbformat": 4,
 "nbformat_minor": 2
}
