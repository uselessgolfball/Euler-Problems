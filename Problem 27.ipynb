{
 "cells": [
  {
   "cell_type": "markdown",
   "metadata": {},
   "source": [
    "Euler discovered the remarkable quadratic formula:\n",
    "\n",
    "n2+n+41\n",
    "\n",
    "It turns out that the formula will produce 40 primes for the consecutive integer values 0≤n≤39\n",
    ". However, when n=40,402+40+41=40(40+1)+41 is divisible by 41, and certainly when n=41,412+41+41\n",
    "\n",
    "is clearly divisible by 41.\n",
    "\n",
    "The incredible formula n2−79n+1601\n",
    "was discovered, which produces 80 primes for the consecutive values 0≤n≤79\n",
    "\n",
    ". The product of the coefficients, −79 and 1601, is −126479.\n",
    "\n",
    "Considering quadratics of the form:\n",
    "\n",
    "    n2+an+b\n",
    "\n",
    ", where |a|<1000 and |b|≤1000\n",
    "\n",
    "where |n|\n",
    "is the modulus/absolute value of n\n",
    "e.g. |11|=11 and |−4|=4\n",
    "\n",
    "Find the product of the coefficients, a\n",
    "and b, for the quadratic expression that produces the maximum number of primes for consecutive values of n, starting with n=0."
   ]
  },
  {
   "cell_type": "code",
   "execution_count": 3,
   "metadata": {},
   "outputs": [],
   "source": [
    "#Function to tell the number of quadratic primes for a given number\n",
    "def quadraticPrimes(a, b, primes):\n",
    "    count = 0\n",
    "    n = 0\n",
    "    while n**2 + n*a + b in primes:\n",
    "        count +=1\n",
    "        n += 1\n",
    "    return count"
   ]
  },
  {
   "cell_type": "code",
   "execution_count": 2,
   "metadata": {},
   "outputs": [
    {
     "name": "stdout",
     "output_type": "stream",
     "text": [
      "[2, 3, 5, 7, 11, 13, 17, 19, 23, 29, 31, 37, 41, 43, 47, 53, 59, 61, 67, 71, 73, 79, 83, 89, 97, 101, 103, 107, 109, 113, 127, 131, 137, 139, 149, 151, 157, 163, 167, 173, 179, 181, 191, 193, 197, 199, 211, 223, 227, 229, 233, 239, 241, 251, 257, 263, 269, 271, 277, 281, 283, 293, 307, 311, 313, 317, 331, 337, 347, 349, 353, 359, 367, 373, 379, 383, 389, 397, 401, 409, 419, 421, 431, 433, 439, 443, 449, 457, 461, 463, 467, 479, 487, 491, 499, 503, 509, 521, 523, 541, 547, 557, 563, 569, 571, 577, 587, 593, 599, 601, 607, 613, 617, 619, 631, 641, 643, 647, 653, 659, 661, 673, 677, 683, 691, 701, 709, 719, 727, 733, 739, 743, 751, 757, 761, 769, 773, 787, 797, 809, 811, 821, 823, 827, 829, 839, 853, 857, 859, 863, 877, 881, 883, 887, 907, 911, 919, 929, 937, 941, 947, 953, 967, 971, 977, 983, 991, 997]\n"
     ]
    }
   ],
   "source": [
    "def isPrime(n):\n",
    "    if n == 1: #1 not prime\n",
    "        return False\n",
    "    elif n < 4: #2,3 prime\n",
    "        return True\n",
    "    elif n%2 == 0: #evens not prime\n",
    "        return False\n",
    "    elif n<9: #odds below 9 are prime\n",
    "        return True\n",
    "    elif n%3 == 0: #removes divisible by 3\n",
    "        return False\n",
    "    else:\n",
    "        r = round(n**0.5)\n",
    "        f = 5\n",
    "        while f <= r:\n",
    "            if n%f == 0:\n",
    "                return False\n",
    "            if n%(f+2) == 0:\n",
    "                return False\n",
    "            f += 6\n",
    "        return True\n",
    "\n",
    "primes = []\n",
    "for i in range(1, 1000):\n",
    "    if isPrime(i):\n",
    "        primes.append(i)\n",
    "        \n",
    "print(primes)"
   ]
  },
  {
   "cell_type": "code",
   "execution_count": 4,
   "metadata": {},
   "outputs": [
    {
     "name": "stdout",
     "output_type": "stream",
     "text": [
      "62 -61 971\n",
      "-59231\n"
     ]
    }
   ],
   "source": [
    "max_count = 0\n",
    "max_a = 0\n",
    "max_b = 0\n",
    "\n",
    "for a in range (-999,999):\n",
    "    for b in range(2,1001):\n",
    "        if quadraticPrimes(a, b, primes) > max_count:\n",
    "            max_count = quadraticPrimes(a, b, primes)\n",
    "            max_a = a\n",
    "            max_b = b\n",
    "\n",
    "print(max_count, max_a, max_b)\n",
    "print(max_a*max_b)"
   ]
  },
  {
   "cell_type": "code",
   "execution_count": null,
   "metadata": {},
   "outputs": [],
   "source": []
  }
 ],
 "metadata": {
  "kernelspec": {
   "display_name": "Python 3",
   "language": "python",
   "name": "python3"
  },
  "language_info": {
   "codemirror_mode": {
    "name": "ipython",
    "version": 3
   },
   "file_extension": ".py",
   "mimetype": "text/x-python",
   "name": "python",
   "nbconvert_exporter": "python",
   "pygments_lexer": "ipython3",
   "version": "3.7.0"
  }
 },
 "nbformat": 4,
 "nbformat_minor": 2
}
