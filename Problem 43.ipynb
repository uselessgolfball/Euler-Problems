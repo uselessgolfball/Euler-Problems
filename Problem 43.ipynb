{
 "cells": [
  {
   "cell_type": "raw",
   "metadata": {},
   "source": [
    "\n",
    "\n",
    "The number, 1406357289, is a 0 to 9 pandigital number because it is made up of each of the digits 0 to 9 in some order, but it also has a rather interesting sub-string divisibility property.\n",
    "\n",
    "Let d1 be the 1st digit, d2 be the 2nd digit, and so on. In this way, we note the following:\n",
    "\n",
    "    d2d3d4=406 is divisible by 2\n",
    "    d3d4d5=063 is divisible by 3\n",
    "    d4d5d6=635 is divisible by 5\n",
    "    d5d6d7=357 is divisible by 7\n",
    "    d6d7d8=572 is divisible by 11\n",
    "    d7d8d9=728 is divisible by 13\n",
    "    d8d9d10=289 is divisible by 17\n",
    "\n",
    "Find the sum of all 0 to 9 pandigital numbers with this property.\n"
   ]
  },
  {
   "cell_type": "code",
   "execution_count": 1,
   "metadata": {},
   "outputs": [],
   "source": [
    "# generate all pandigitals\n",
    "# create check"
   ]
  },
  {
   "cell_type": "code",
   "execution_count": 12,
   "metadata": {},
   "outputs": [],
   "source": [
    "#pandigital permutation generator\n",
    "\n",
    "import itertools\n",
    "\n",
    "seed = [\"1\",\"2\",\"3\",\"4\",\"5\",\"6\",\"7\",\"8\",\"9\",\"0\"]\n",
    "\n",
    "perm = list(itertools.permutations(seed,10))\n",
    "\n",
    "permutations = []\n",
    "\n",
    "for group in perm:\n",
    "    p = \"\"\n",
    "    for c in group:\n",
    "        p += c\n",
    "    permutations.append(int(p))"
   ]
  },
  {
   "cell_type": "code",
   "execution_count": 13,
   "metadata": {},
   "outputs": [],
   "source": [
    "#check against rules\n",
    "\n",
    "def checkRule(n):\n",
    "    d = str(n)\n",
    "    if int(d[1:4])%2 != 0:\n",
    "        return False\n",
    "    elif int(d[2:5])%3 != 0:\n",
    "        return False\n",
    "    elif int(d[3:6])%5 != 0:\n",
    "        return False\n",
    "    elif int(d[4:7])%7 != 0:\n",
    "        return False\n",
    "    elif int(d[5:8])%11 != 0:\n",
    "        return False\n",
    "    elif int(d[6:9])%13 != 0:\n",
    "        return False\n",
    "    elif int(d[7:10])%17 != 0:\n",
    "        return False\n",
    "    else:\n",
    "        return True"
   ]
  },
  {
   "cell_type": "code",
   "execution_count": 16,
   "metadata": {},
   "outputs": [
    {
     "name": "stdout",
     "output_type": "stream",
     "text": [
      "16695334890\n"
     ]
    }
   ],
   "source": [
    "#solver\n",
    "soln = 0\n",
    "pandigitals = permutations\n",
    "\n",
    "for n in pandigitals:\n",
    "    if checkRule(n):\n",
    "        soln += n\n",
    "\n",
    "print(soln)"
   ]
  },
  {
   "cell_type": "code",
   "execution_count": 5,
   "metadata": {},
   "outputs": [],
   "source": [
    "abc = \"1234567890\""
   ]
  },
  {
   "cell_type": "code",
   "execution_count": 17,
   "metadata": {},
   "outputs": [
    {
     "name": "stdout",
     "output_type": "stream",
     "text": [
      "[1234567890, 1234567809, 1234567980, 1234567908, 1234567089, 1234567098, 1234568790, 1234568709, 1234568970, 1234568907]\n"
     ]
    }
   ],
   "source": [
    "print(pandigitals[0:10])"
   ]
  },
  {
   "cell_type": "code",
   "execution_count": null,
   "metadata": {},
   "outputs": [],
   "source": []
  }
 ],
 "metadata": {
  "kernelspec": {
   "display_name": "Python 3",
   "language": "python",
   "name": "python3"
  },
  "language_info": {
   "codemirror_mode": {
    "name": "ipython",
    "version": 3
   },
   "file_extension": ".py",
   "mimetype": "text/x-python",
   "name": "python",
   "nbconvert_exporter": "python",
   "pygments_lexer": "ipython3",
   "version": "3.7.0"
  }
 },
 "nbformat": 4,
 "nbformat_minor": 2
}
