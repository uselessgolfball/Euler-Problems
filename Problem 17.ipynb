{
 "cells": [
  {
   "cell_type": "markdown",
   "metadata": {},
   "source": [
    "\n",
    "\n",
    "If the numbers 1 to 5 are written out in words: one, two, three, four, five, then there are 3 + 3 + 5 + 4 + 4 = 19 letters used in total.\n",
    "\n",
    "If all the numbers from 1 to 1000 (one thousand) inclusive were written out in words, how many letters would be used?\n",
    "\n",
    "NOTE: Do not count spaces or hyphens. For example, 342 (three hundred and forty-two) contains 23 letters and 115 (one hundred and fifteen) contains 20 letters. The use of \"and\" when writing out numbers is in compliance with British usage.\n"
   ]
  },
  {
   "cell_type": "code",
   "execution_count": 15,
   "metadata": {},
   "outputs": [],
   "source": [
    "def numLetter(n):\n",
    "    #number of characters for 0-10\n",
    "    zeros = [0,3,3,5,4,4,3,5,5,4,3]\n",
    "    #counter for number of characters\n",
    "    num_char = 0\n",
    "    #last two digits for separate number counting\n",
    "    last_two = n % 100\n",
    "    #hundreds digit\n",
    "    hun = int((n-last_two)/100)\n",
    "    ### \n",
    "    if n == 1000: #one thousand, no additional calcs needed\n",
    "        num_char = 11\n",
    "    elif n < 100: # small numbers\n",
    "        num_char = numTensLetter(n)\n",
    "    elif last_two == 0: #even hundreds\n",
    "        num_char += zeros[hun]+7 #hundred\n",
    "    else:\n",
    "        num_char += numTensLetter(last_two)\n",
    "        num_char += zeros[hun]\n",
    "        num_char += 10 #hundred and\n",
    "    \n",
    "    return num_char\n",
    "    \n",
    "def numTensLetter(n):    \n",
    "    ### Calculate number of letters in last two digits\n",
    "    zeros = [0,3,3,5,4,4,3,5,5,4,3]\n",
    "    teens = [6,6,8,8,7,7,9,8,8]\n",
    "    tens = [6,6,5,5,5,7,6,6]\n",
    "    num_char = 0\n",
    "    ones_digit = n % 10\n",
    "    tens_digit = int((n-ones_digit)/10)\n",
    "    \n",
    "    if n <= 10:\n",
    "        num_char += zeros[n]\n",
    "    elif n < 20:\n",
    "        num_char += teens[n-11]\n",
    "    else:\n",
    "        num_char += zeros[ones_digit]\n",
    "        num_char += tens[tens_digit-2]\n",
    "    return num_char\n",
    "    "
   ]
  },
  {
   "cell_type": "code",
   "execution_count": 16,
   "metadata": {},
   "outputs": [
    {
     "name": "stdout",
     "output_type": "stream",
     "text": [
      "21124\n"
     ]
    }
   ],
   "source": [
    "letter = 0\n",
    "for num in range(1,1001):\n",
    "    letter += numLetter(num)\n",
    "print(letter)"
   ]
  },
  {
   "cell_type": "code",
   "execution_count": null,
   "metadata": {},
   "outputs": [],
   "source": []
  }
 ],
 "metadata": {
  "kernelspec": {
   "display_name": "Python 3",
   "language": "python",
   "name": "python3"
  },
  "language_info": {
   "codemirror_mode": {
    "name": "ipython",
    "version": 3
   },
   "file_extension": ".py",
   "mimetype": "text/x-python",
   "name": "python",
   "nbconvert_exporter": "python",
   "pygments_lexer": "ipython3",
   "version": "3.7.0"
  }
 },
 "nbformat": 4,
 "nbformat_minor": 2
}
