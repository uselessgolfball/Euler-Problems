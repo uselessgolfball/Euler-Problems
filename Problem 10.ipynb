{
 "cells": [
  {
   "cell_type": "markdown",
   "metadata": {},
   "source": [
    "\n",
    "\n",
    "The sum of the primes below 10 is 2 + 3 + 5 + 7 = 17.\n",
    "\n",
    "Find the sum of all the primes below two million.\n"
   ]
  },
  {
   "cell_type": "code",
   "execution_count": 9,
   "metadata": {},
   "outputs": [],
   "source": [
    "def isPrime(n):\n",
    "    prime = True\n",
    "    i = 2\n",
    "    # Slow method of checking primes\n",
    "    while n**0.5+1 > i:\n",
    "        if n%i == 0:\n",
    "            prime = False\n",
    "            break\n",
    "        else:\n",
    "            i += 1\n",
    "    return prime"
   ]
  },
  {
   "cell_type": "code",
   "execution_count": 14,
   "metadata": {},
   "outputs": [],
   "source": [
    "import math\n",
    "\n",
    "def isPrimeFast(n):\n",
    "    if n <= 1: # 1 is not prime\n",
    "        return False\n",
    "    elif n < 4: # 2 and 3 are prime\n",
    "        return True\n",
    "    elif n%2 == 0: # remove all evens\n",
    "        return False\n",
    "    elif n < 9: # 5 and 7 are prime\n",
    "        return True\n",
    "    elif n%3 == 0: # remove all multiples of 3\n",
    "        return False\n",
    "    else:\n",
    "        r = math.floor(n**0.5)\n",
    "        f = 5\n",
    "        while f <= r:\n",
    "            if n%f == 0:\n",
    "                return False\n",
    "            if n%(f+2) == 0:\n",
    "                return False\n",
    "            f += 6\n",
    "        return True"
   ]
  },
  {
   "cell_type": "code",
   "execution_count": 11,
   "metadata": {},
   "outputs": [],
   "source": [
    "def sumPrimesBelowN(n):\n",
    "    primes =[]\n",
    "    sumPrimes = 2\n",
    "    # Iterate up to n and add primes as identified\n",
    "    for i in range(2,n):\n",
    "        if isPrimeFast(i):\n",
    "            sumPrimes += i\n",
    "            primes.append(i)\n",
    "        i += 1\n",
    "    return sumPrimes"
   ]
  },
  {
   "cell_type": "code",
   "execution_count": 13,
   "metadata": {},
   "outputs": [
    {
     "data": {
      "text/plain": [
       "142913828922"
      ]
     },
     "execution_count": 13,
     "metadata": {},
     "output_type": "execute_result"
    }
   ],
   "source": [
    "sumPrimesBelowN(2000000)"
   ]
  },
  {
   "cell_type": "code",
   "execution_count": 15,
   "metadata": {},
   "outputs": [],
   "source": [
    "def sieveOfErasthenes(n):\n",
    "    r = math.floor(n)\n",
    "    sieve = [False]*(n-1)\n",
    "    \n",
    "    # Remove all evens from sieve\n",
    "    for i in range(4,n,2):\n",
    "        sieve[i-1] = True\n",
    "    \n",
    "    for j in range(3,r,2):\n",
    "        if not sieve[j-1]:\n",
    "            for k in range(j**2, n, 2*j):\n",
    "                sieve[k-1] = True\n",
    "    \n",
    "    return sieve"
   ]
  },
  {
   "cell_type": "code",
   "execution_count": 20,
   "metadata": {},
   "outputs": [
    {
     "name": "stdout",
     "output_type": "stream",
     "text": [
      "142913828922\n"
     ]
    }
   ],
   "source": [
    "sumPrimes = 0\n",
    "limit = 2000000\n",
    "sieve = sieveOfErasthenes(2000000)\n",
    "\n",
    "for n in range(2,limit):\n",
    "    if not sieve[n-1]:\n",
    "        sumPrimes += n\n",
    "\n",
    "print(sumPrimes)"
   ]
  },
  {
   "cell_type": "code",
   "execution_count": null,
   "metadata": {},
   "outputs": [],
   "source": []
  }
 ],
 "metadata": {
  "kernelspec": {
   "display_name": "Python 3",
   "language": "python",
   "name": "python3"
  },
  "language_info": {
   "codemirror_mode": {
    "name": "ipython",
    "version": 3
   },
   "file_extension": ".py",
   "mimetype": "text/x-python",
   "name": "python",
   "nbconvert_exporter": "python",
   "pygments_lexer": "ipython3",
   "version": "3.7.0"
  }
 },
 "nbformat": 4,
 "nbformat_minor": 2
}
