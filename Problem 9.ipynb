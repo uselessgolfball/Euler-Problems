{
 "cells": [
  {
   "cell_type": "markdown",
   "metadata": {},
   "source": [
    "\n",
    "\n",
    "A Pythagorean triplet is a set of three natural numbers, a < b < c, for which,\n",
    "a2 + b2 = c2\n",
    "\n",
    "For example, 32 + 42 = 9 + 16 = 25 = 52.\n",
    "\n",
    "There exists exactly one Pythagorean triplet for which a + b + c = 1000.\n",
    "Find the product abc.\n"
   ]
  },
  {
   "cell_type": "code",
   "execution_count": 3,
   "metadata": {},
   "outputs": [],
   "source": [
    "def pythagC(a,b):\n",
    "    c = (a**2 + b**2)**0.5\n",
    "    return c\n",
    "\n",
    "def isInt(n):\n",
    "    if n == round(n):\n",
    "        return True\n",
    "    else:\n",
    "        return False\n",
    "\n",
    "def isPythagTriplet(i,j):\n",
    "    if isInt(pythagC(i,j)) == True:\n",
    "        return True\n",
    "    else:\n",
    "        return False\n"
   ]
  },
  {
   "cell_type": "code",
   "execution_count": 9,
   "metadata": {},
   "outputs": [],
   "source": [
    "def pythagTripletSum(n):\n",
    "    a_0 = 3\n",
    "    b_0 = 4\n",
    "    c_0 = pythagC(a_0, b_0)\n",
    "    \n",
    "    for i in range (a_0, n):\n",
    "        for j in range (b_0, n):\n",
    "            if isPythagTriplet(i, j) == True and i + j + pythagC(i , j) == 1000:\n",
    "                return [i, j, pythagC(i,j)]\n",
    "    return False"
   ]
  },
  {
   "cell_type": "code",
   "execution_count": 12,
   "metadata": {},
   "outputs": [
    {
     "name": "stdout",
     "output_type": "stream",
     "text": [
      "[200, 375, 425.0]\n",
      "31875000.0\n"
     ]
    }
   ],
   "source": [
    "triplet = pythagTripletSum(1000)\n",
    "print(triplet)\n",
    "prod = 1\n",
    "for i in triplet:\n",
    "    prod *= i\n",
    "print(prod)"
   ]
  },
  {
   "cell_type": "code",
   "execution_count": null,
   "metadata": {},
   "outputs": [],
   "source": []
  }
 ],
 "metadata": {
  "kernelspec": {
   "display_name": "Python 3",
   "language": "python",
   "name": "python3"
  }
 },
 "nbformat": 4,
 "nbformat_minor": 2
}
