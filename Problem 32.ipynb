{
 "cells": [
  {
   "cell_type": "markdown",
   "metadata": {},
   "source": [
    "\n",
    "\n",
    "We shall say that an n-digit number is pandigital if it makes use of all the digits 1 to n exactly once; for example, the 5-digit number, 15234, is 1 through 5 pandigital.\n",
    "\n",
    "The product 7254 is unusual, as the identity, 39 × 186 = 7254, containing multiplicand, multiplier, and product is 1 through 9 pandigital.\n",
    "\n",
    "Find the sum of all products whose multiplicand/multiplier/product identity can be written as a 1 through 9 pandigital.\n",
    "HINT: Some products can be obtained in more than one way so be sure to only include it once in your sum.\n"
   ]
  },
  {
   "cell_type": "code",
   "execution_count": 2,
   "metadata": {},
   "outputs": [],
   "source": [
    "# Build all pandigitals\n",
    "# check each one to see if this property holds and create list\n",
    "# 4 types of pandigitals for 123456789\n",
    "# 123 x 45 = 6789\n",
    "# 12 x 345 = 6789\n",
    "# 1 x 2345 = 6789\n",
    "# 1234 x 5 = 6789\n",
    "# remove duplicates from list"
   ]
  },
  {
   "cell_type": "code",
   "execution_count": 1,
   "metadata": {},
   "outputs": [
    {
     "name": "stdout",
     "output_type": "stream",
     "text": [
      "362880\n"
     ]
    }
   ],
   "source": [
    "#pandigital n=9 permutation generator\n",
    "\n",
    "import itertools\n",
    "\n",
    "seed = [\"1\",\"2\",\"3\",\"4\",\"5\",\"6\",\"7\",\"8\",\"9\"]\n",
    "\n",
    "perm = list(itertools.permutations(seed,9))\n",
    "\n",
    "pandigitals = []\n",
    "\n",
    "for group in perm:\n",
    "    p = \"\"\n",
    "    for c in group:\n",
    "        p += c\n",
    "    pandigitals.append(int(p))\n",
    "\n",
    "print(len(pandigitals))"
   ]
  },
  {
   "cell_type": "code",
   "execution_count": 7,
   "metadata": {},
   "outputs": [],
   "source": [
    "# check identity function\n",
    "\n",
    "def checkM(n):\n",
    "    abc = str(n)\n",
    "    end = int(abc[-4:])\n",
    "    # last 4 digits (6789)\n",
    "    if int(abc[:3]) * int(abc[3:5]) == end:\n",
    "        # 123 x 45 = 6789\n",
    "        return {int(abc[:3]), int(abc[3:5]), end}\n",
    "    elif int(abc[:2]) * int(abc[2:5]) == end:\n",
    "        # 12 x 345 = 6789\n",
    "        return {int(abc[:2]), int(abc[2:5]), end}\n",
    "    elif int(abc[:1]) * int(abc[1:5]) == end:\n",
    "        # 1 x 2345 = 6789\n",
    "        return {int(abc[:1]), int(abc[1:5]), end}\n",
    "    elif int(abc[:4]) * int(abc[4:5]) == end:\n",
    "        # 1234 x 5 = 6789\n",
    "        return {int(abc[:4]), int(abc[4:5]), end}\n",
    "    else:\n",
    "        return False\n",
    "    "
   ]
  },
  {
   "cell_type": "code",
   "execution_count": 8,
   "metadata": {},
   "outputs": [
    {
     "data": {
      "text/plain": [
       "{39, 186, 7254}"
      ]
     },
     "execution_count": 8,
     "metadata": {},
     "output_type": "execute_result"
    }
   ],
   "source": [
    "checkM(391867254)"
   ]
  },
  {
   "cell_type": "code",
   "execution_count": 13,
   "metadata": {},
   "outputs": [
    {
     "name": "stdout",
     "output_type": "stream",
     "text": [
      "[{5796, 483, 12}, {5796, 138, 42}, {28, 157, 4396}, {48, 7632, 159}, {6952, 1738, 4}, {5346, 297, 18}, {186, 7254, 39}, {7852, 1963, 4}, {5346, 27, 198}, {5346, 27, 198}, {28, 157, 4396}, {5346, 297, 18}, {186, 7254, 39}, {6952, 1738, 4}, {7852, 1963, 4}, {42, 5796, 138}, {48, 7632, 159}, {5796, 483, 12}]\n",
      "18\n"
     ]
    }
   ],
   "source": [
    "identity = []\n",
    "\n",
    "for p in pandigitals:\n",
    "    if checkM(p):\n",
    "        #if checkM(p) not in identity:\n",
    "        identity.append(checkM(p))\n",
    "\n",
    "print(identity)\n",
    "print(len(identity))"
   ]
  },
  {
   "cell_type": "code",
   "execution_count": 14,
   "metadata": {},
   "outputs": [
    {
     "name": "stdout",
     "output_type": "stream",
     "text": [
      "[{5796, 483, 12}, {5796, 138, 42}, {28, 157, 4396}, {48, 7632, 159}, {6952, 1738, 4}, {5346, 297, 18}, {186, 7254, 39}, {7852, 1963, 4}, {5346, 27, 198}] 9\n"
     ]
    }
   ],
   "source": [
    "#Remove duplicates\n",
    "\n",
    "soln = []\n",
    "\n",
    "for i in identity:\n",
    "    if i not in soln:\n",
    "        soln.append(i)\n",
    "\n",
    "print(soln, len(soln))"
   ]
  },
  {
   "cell_type": "code",
   "execution_count": 15,
   "metadata": {},
   "outputs": [
    {
     "name": "stdout",
     "output_type": "stream",
     "text": [
      "56370\n"
     ]
    }
   ],
   "source": [
    "prods = []\n",
    "\n",
    "for i in soln:\n",
    "    prods.append(max(i))\n",
    "    \n",
    "print(sum(prods))"
   ]
  },
  {
   "cell_type": "code",
   "execution_count": null,
   "metadata": {},
   "outputs": [],
   "source": []
  },
  {
   "cell_type": "code",
   "execution_count": 16,
   "metadata": {},
   "outputs": [
    {
     "data": {
      "text/plain": [
       "[5796, 5796, 4396, 7632, 6952, 5346, 7254, 7852, 5346]"
      ]
     },
     "execution_count": 16,
     "metadata": {},
     "output_type": "execute_result"
    }
   ],
   "source": [
    "prods"
   ]
  },
  {
   "cell_type": "code",
   "execution_count": null,
   "metadata": {},
   "outputs": [],
   "source": []
  }
 ],
 "metadata": {
  "kernelspec": {
   "display_name": "Python 3",
   "language": "python",
   "name": "python3"
  },
  "language_info": {
   "codemirror_mode": {
    "name": "ipython",
    "version": 3
   },
   "file_extension": ".py",
   "mimetype": "text/x-python",
   "name": "python",
   "nbconvert_exporter": "python",
   "pygments_lexer": "ipython3",
   "version": "3.7.0"
  }
 },
 "nbformat": 4,
 "nbformat_minor": 2
}
