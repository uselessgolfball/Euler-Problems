{
 "cells": [
  {
   "cell_type": "code",
   "execution_count": 1,
   "metadata": {},
   "outputs": [],
   "source": [
    "#Problem 3\n",
    "#The prime factors of 13195 are 5, 7, 13 and 29.\n",
    "\n",
    "#What is the largest prime factor of the number 600851475143 ?\n",
    "test = 600851475143"
   ]
  },
  {
   "cell_type": "code",
   "execution_count": 2,
   "metadata": {},
   "outputs": [
    {
     "name": "stdout",
     "output_type": "stream",
     "text": [
      "[71, 839, 1471, 6857]\n",
      "6857\n"
     ]
    }
   ],
   "source": [
    "#define largest possible prime\n",
    "max_possible = round(test**0.5+1)\n",
    "\n",
    "factors = []\n",
    "\n",
    "#iterate over range of possible factors\n",
    "for i in range (2,max_possible):\n",
    "    #if divides evenly into test, is a factor\n",
    "    if test%i == 0:\n",
    "        factors.append(i)\n",
    "\n",
    "prime_factors = factors[:]\n",
    "nonprime_factors = []\n",
    "\n",
    "#identify if each factor is prime (using knowledge of other factors)\n",
    "for j in factors:\n",
    "    for k in factors:\n",
    "        if j%k == 0 and j//k > 1:\n",
    "            #remove from list of prime factors\n",
    "            if j in prime_factors:\n",
    "                prime_factors.remove(j)\n",
    "\n",
    "print(prime_factors)\n",
    "print(max(prime_factors))\n"
   ]
  },
  {
   "cell_type": "code",
   "execution_count": 3,
   "metadata": {},
   "outputs": [
    {
     "name": "stdout",
     "output_type": "stream",
     "text": [
      "71 8462696833.0\n",
      "839 10086647.0\n",
      "1471 6857.0\n"
     ]
    }
   ],
   "source": [
    "lastFactor = 0\n",
    "lastPrime = 2\n",
    "n = lastPrime\n",
    "while n < test:\n",
    "    if test%n == 0:\n",
    "        lastFactor = n\n",
    "        test = test/n\n",
    "        print(n, test)\n",
    "    n += 1"
   ]
  },
  {
   "cell_type": "code",
   "execution_count": null,
   "metadata": {},
   "outputs": [],
   "source": []
  },
  {
   "cell_type": "code",
   "execution_count": null,
   "metadata": {},
   "outputs": [],
   "source": []
  }
 ],
 "metadata": {
  "kernelspec": {
   "display_name": "Python 3",
   "language": "python",
   "name": "python3"
  },
  "language_info": {
   "codemirror_mode": {
    "name": "ipython",
    "version": 3
   },
   "file_extension": ".py",
   "mimetype": "text/x-python",
   "name": "python",
   "nbconvert_exporter": "python",
   "pygments_lexer": "ipython3",
   "version": "3.7.0"
  }
 },
 "nbformat": 4,
 "nbformat_minor": 2
}
