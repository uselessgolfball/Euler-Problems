{
 "cells": [
  {
   "cell_type": "code",
   "execution_count": 1,
   "metadata": {},
   "outputs": [],
   "source": [
    "\n",
    "\n",
    "#2520 is the smallest number that can be divided by each of the numbers from 1 to 10 without any remainder.\n",
    "\n",
    "#What is the smallest positive number that is evenly divisible by all of the numbers from 1 to 20?\n"
   ]
  },
  {
   "cell_type": "code",
   "execution_count": 2,
   "metadata": {},
   "outputs": [],
   "source": [
    "# Approach:\n",
    "# Build list of numbers\n",
    "# Break down to unique prime factors\n",
    "# Build back up"
   ]
  },
  {
   "cell_type": "code",
   "execution_count": 3,
   "metadata": {},
   "outputs": [
    {
     "name": "stdout",
     "output_type": "stream",
     "text": [
      "[1, 2, 3, 4, 5, 6, 7, 8, 9, 10, 11, 12, 13, 14, 15, 16, 17, 18, 19, 20]\n"
     ]
    }
   ],
   "source": [
    "target = 21 #due to python counting\n",
    "target_list = []\n",
    "\n",
    "for i in range(1,target):\n",
    "    target_list.append(i)\n",
    "\n",
    "print(target_list)"
   ]
  },
  {
   "cell_type": "code",
   "execution_count": 4,
   "metadata": {},
   "outputs": [
    {
     "name": "stdout",
     "output_type": "stream",
     "text": [
      "232792560\n"
     ]
    }
   ],
   "source": [
    "# Initialize prime factor list\n",
    "prime_factor_list = [1]\n",
    "\n",
    "# Build list of new prime factors\n",
    "for num in target_list:\n",
    "    i = num\n",
    "    for j in prime_factor_list:\n",
    "        if i%j == 0:\n",
    "            i = i // j\n",
    "    prime_factor_list.append(i)\n",
    "        \n",
    "LCM = 1\n",
    "for k in prime_factor_list:\n",
    "    LCM *= k\n",
    "print(LCM)"
   ]
  },
  {
   "cell_type": "code",
   "execution_count": 13,
   "metadata": {},
   "outputs": [],
   "source": [
    "def primeFactor(n):\n",
    "    prime_factor_list = [1]\n",
    "    i = 2\n",
    "    while n > i:\n",
    "        if n%i == 0:\n",
    "            prime_factor_list.append(i)\n",
    "            n = n//i\n",
    "        if n%i != 0:\n",
    "            i += 1\n",
    "    prime_factor_list.append(n)\n",
    "    return prime_factor_list"
   ]
  },
  {
   "cell_type": "code",
   "execution_count": 12,
   "metadata": {},
   "outputs": [
    {
     "data": {
      "text/plain": [
       "[1, 3, 3, 3, 3, 3, 3]"
      ]
     },
     "execution_count": 12,
     "metadata": {},
     "output_type": "execute_result"
    }
   ],
   "source": []
  },
  {
   "cell_type": "code",
   "execution_count": null,
   "metadata": {},
   "outputs": [],
   "source": []
  }
 ],
 "metadata": {
  "kernelspec": {
   "display_name": "Python 3",
   "language": "python",
   "name": "python3"
  },
  "language_info": {
   "codemirror_mode": {
    "name": "ipython",
    "version": 3
   },
   "file_extension": ".py",
   "mimetype": "text/x-python",
   "name": "python",
   "nbconvert_exporter": "python",
   "pygments_lexer": "ipython3",
   "version": "3.7.0"
  }
 },
 "nbformat": 4,
 "nbformat_minor": 2
}
