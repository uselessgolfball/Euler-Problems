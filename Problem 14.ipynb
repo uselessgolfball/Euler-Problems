{
 "cells": [
  {
   "cell_type": "markdown",
   "metadata": {},
   "source": [
    "\n",
    "\n",
    "The following iterative sequence is defined for the set of positive integers:\n",
    "\n",
    "n → n/2 (n is even)\n",
    "n → 3n + 1 (n is odd)\n",
    "\n",
    "Using the rule above and starting with 13, we generate the following sequence:\n",
    "13 → 40 → 20 → 10 → 5 → 16 → 8 → 4 → 2 → 1\n",
    "\n",
    "It can be seen that this sequence (starting at 13 and finishing at 1) contains 10 terms. Although it has not been proved yet (Collatz Problem), it is thought that all starting numbers finish at 1.\n",
    "\n",
    "Which starting number, under one million, produces the longest chain?\n",
    "\n",
    "NOTE: Once the chain starts the terms are allowed to go above one million.\n"
   ]
  },
  {
   "cell_type": "code",
   "execution_count": 8,
   "metadata": {},
   "outputs": [
    {
     "name": "stdout",
     "output_type": "stream",
     "text": [
      "837799 525\n"
     ]
    }
   ],
   "source": [
    "#initialize target variables\n",
    "longest_chain = 0\n",
    "counter = 0\n",
    "\n",
    "#sequence\n",
    "def collatzProblem(n):\n",
    "    chain = 1\n",
    "    while n > 1:\n",
    "        if n%2 == 0:\n",
    "            n = n/2\n",
    "        else:\n",
    "            n = 3*n + 1\n",
    "        chain += 1\n",
    "    return chain\n",
    "\n",
    "for i in range(1,1000000):\n",
    "    if collatzProblem(i) > longest_chain:\n",
    "        longest_chain = collatzProblem(i)\n",
    "        counter = i\n",
    "        \n",
    "print (counter, longest_chain)"
   ]
  },
  {
   "cell_type": "code",
   "execution_count": 9,
   "metadata": {},
   "outputs": [
    {
     "name": "stdout",
     "output_type": "stream",
     "text": [
      "837799 525\n"
     ]
    }
   ],
   "source": [
    "values = {1: 1}\n",
    "target = 1000000\n",
    "longestChain = 0\n",
    "longestCount = 0\n",
    "\n",
    "# Do this semi-recursively\n",
    "def countChain(n):\n",
    "    # Check if value was already calculated - use this value\n",
    "    if n in values:\n",
    "        return values[n]\n",
    "    # For even numbers, add 1 to prior value\n",
    "    elif n%2 == 0:\n",
    "        values[n] = 1 + countChain(n / 2)\n",
    "    # For odd numbers, add 2 to prior value\n",
    "    else:\n",
    "        values[n] = 2 + countChain((3*n + 1)/2)\n",
    "    \n",
    "    return values[n]\n",
    "\n",
    "for i in range(target//2, target-1):\n",
    "    if countChain(i) > longestChain:\n",
    "        longestChain = countChain(i)\n",
    "        longestCount = i\n",
    "        \n",
    "print(longestCount, longestChain)"
   ]
  },
  {
   "cell_type": "code",
   "execution_count": null,
   "metadata": {},
   "outputs": [],
   "source": []
  }
 ],
 "metadata": {
  "kernelspec": {
   "display_name": "Python 3",
   "language": "python",
   "name": "python3"
  },
  "language_info": {
   "codemirror_mode": {
    "name": "ipython",
    "version": 3
   },
   "file_extension": ".py",
   "mimetype": "text/x-python",
   "name": "python",
   "nbconvert_exporter": "python",
   "pygments_lexer": "ipython3",
   "version": "3.7.0"
  }
 },
 "nbformat": 4,
 "nbformat_minor": 2
}
