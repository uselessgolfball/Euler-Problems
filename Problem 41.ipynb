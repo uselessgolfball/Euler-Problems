{
 "cells": [
  {
   "cell_type": "markdown",
   "metadata": {},
   "source": [
    "\n",
    "\n",
    "We shall say that an n-digit number is pandigital if it makes use of all the digits 1 to n exactly once. For example, 2143 is a 4-digit pandigital and is also prime.\n",
    "\n",
    "What is the largest n-digit pandigital prime that exists?\n"
   ]
  },
  {
   "cell_type": "code",
   "execution_count": 1,
   "metadata": {},
   "outputs": [],
   "source": [
    "#A 9 digit pandigital is always divisble by 3 (sum of digits = 45)...as is a 8 digit pandigital (sum of digits = 36)\n",
    "#Cannot be larger than a 7 digit pandigital\n",
    "#Take pandigitals and work backwards to determine primacy"
   ]
  },
  {
   "cell_type": "code",
   "execution_count": 10,
   "metadata": {},
   "outputs": [
    {
     "name": "stdout",
     "output_type": "stream",
     "text": [
      "5040\n"
     ]
    }
   ],
   "source": [
    "#pandigital n=7 permutation generator\n",
    "\n",
    "import itertools\n",
    "\n",
    "seed = [\"1\",\"2\",\"3\",\"4\",\"5\",\"6\",\"7\"]\n",
    "\n",
    "perm = list(itertools.permutations(seed,7))\n",
    "\n",
    "pandigitals = []\n",
    "\n",
    "for group in perm:\n",
    "    p = \"\"\n",
    "    for c in group:\n",
    "        p += c\n",
    "    pandigitals.append(int(p))\n",
    "\n",
    "print(len(pandigitals))"
   ]
  },
  {
   "cell_type": "code",
   "execution_count": 11,
   "metadata": {},
   "outputs": [],
   "source": [
    "#Prime List Generator\n",
    "def primeGenerator(n):\n",
    "    if n == 1: #1 not prime\n",
    "        return False\n",
    "    elif n < 4: #2,3 prime\n",
    "        return True\n",
    "    elif n%2 == 0: #evens not prime\n",
    "        return False\n",
    "    elif n<9: #odds below 9 are prime\n",
    "        return True\n",
    "    elif n%3 == 0: #removes divisible by 3\n",
    "        return False\n",
    "    else:\n",
    "        r = round(n**0.5)\n",
    "        f = 5\n",
    "        while f <= r:\n",
    "            if n%f == 0:\n",
    "                return False\n",
    "            if n%(f+2) == 0:\n",
    "                return False\n",
    "            f += 6\n",
    "        return True\n",
    "\n",
    "primes = []\n",
    "for i in range(1234567, 7654321):\n",
    "    if primeGenerator(i):\n",
    "        primes.append(i)"
   ]
  },
  {
   "cell_type": "code",
   "execution_count": 13,
   "metadata": {},
   "outputs": [
    {
     "name": "stdout",
     "output_type": "stream",
     "text": [
      "7652413\n"
     ]
    }
   ],
   "source": [
    "m_pan = 0\n",
    "\n",
    "for x in reversed(pandigitals):\n",
    "    if x > m_pan:\n",
    "        if x in primes:\n",
    "            m_pan = x\n",
    "\n",
    "print(m_pan)"
   ]
  },
  {
   "cell_type": "code",
   "execution_count": null,
   "metadata": {},
   "outputs": [],
   "source": []
  }
 ],
 "metadata": {
  "kernelspec": {
   "display_name": "Python 3",
   "language": "python",
   "name": "python3"
  },
  "language_info": {
   "codemirror_mode": {
    "name": "ipython",
    "version": 3
   },
   "file_extension": ".py",
   "mimetype": "text/x-python",
   "name": "python",
   "nbconvert_exporter": "python",
   "pygments_lexer": "ipython3",
   "version": "3.7.0"
  }
 },
 "nbformat": 4,
 "nbformat_minor": 2
}
