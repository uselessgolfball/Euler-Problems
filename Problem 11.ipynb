{
 "cells": [
  {
   "cell_type": "markdown",
   "metadata": {},
   "source": [
    "In the 20×20 grid below, four numbers along a diagonal line have been marked in red.\n",
    "\n",
    "08 02 22 97 38 15 00 40 00 75 04 05 07 78 52 12 50 77 91 08\n",
    "49 49 99 40 17 81 18 57 60 87 17 40 98 43 69 48 04 56 62 00\n",
    "81 49 31 73 55 79 14 29 93 71 40 67 53 88 30 03 49 13 36 65\n",
    "52 70 95 23 04 60 11 42 69 24 68 56 01 32 56 71 37 02 36 91\n",
    "22 31 16 71 51 67 63 89 41 92 36 54 22 40 40 28 66 33 13 80\n",
    "24 47 32 60 99 03 45 02 44 75 33 53 78 36 84 20 35 17 12 50\n",
    "32 98 81 28 64 23 67 10 26 38 40 67 59 54 70 66 18 38 64 70\n",
    "67 26 20 68 02 62 12 20 95 63 94 39 63 08 40 91 66 49 94 21\n",
    "24 55 58 05 66 73 99 26 97 17 78 78 96 83 14 88 34 89 63 72\n",
    "21 36 23 09 75 00 76 44 20 45 35 14 00 61 33 97 34 31 33 95\n",
    "78 17 53 28 22 75 31 67 15 94 03 80 04 62 16 14 09 53 56 92\n",
    "16 39 05 42 96 35 31 47 55 58 88 24 00 17 54 24 36 29 85 57\n",
    "86 56 00 48 35 71 89 07 05 44 44 37 44 60 21 58 51 54 17 58\n",
    "19 80 81 68 05 94 47 69 28 73 92 13 86 52 17 77 04 89 55 40\n",
    "04 52 08 83 97 35 99 16 07 97 57 32 16 26 26 79 33 27 98 66\n",
    "88 36 68 87 57 62 20 72 03 46 33 67 46 55 12 32 63 93 53 69\n",
    "04 42 16 73 38 25 39 11 24 94 72 18 08 46 29 32 40 62 76 36\n",
    "20 69 36 41 72 30 23 88 34 62 99 69 82 67 59 85 74 04 36 16\n",
    "20 73 35 29 78 31 90 01 74 31 49 71 48 86 81 16 23 57 05 54\n",
    "01 70 54 71 83 51 54 69 16 92 33 48 61 43 52 01 89 19 67 48\n",
    "\n",
    "The product of these numbers is 26 × 63 × 78 × 14 = 1788696.\n",
    "\n",
    "What is the greatest product of four adjacent numbers in the same direction (up, down, left, right, or diagonally) in the 20×20 grid?"
   ]
  },
  {
   "cell_type": "code",
   "execution_count": 1,
   "metadata": {},
   "outputs": [],
   "source": [
    "grid = [[8,2,22,97,38,15,0,40,0,75,4,5,7,78,52,12,50,77,91,8],[49,49,99,40,17,81,18,57,60,87,17,40,98,43,69,48,4,56,62,0],[81,49,31,73,55,79,14,29,93,71,40,67,53,88,30,3,49,13,36,65],[52,70,95,23,4,60,11,42,69,24,68,56,1,32,56,71,37,2,36,91],[22,31,16,71,51,67,63,89,41,92,36,54,22,40,40,28,66,33,13,80],[24,47,32,60,99,3,45,2,44,75,33,53,78,36,84,20,35,17,12,50],[32,98,81,28,64,23,67,10,26,38,40,67,59,54,70,66,18,38,64,70],[67,26,20,68,2,62,12,20,95,63,94,39,63,8,40,91,66,49,94,21],[24,55,58,5,66,73,99,26,97,17,78,78,96,83,14,88,34,89,63,72],[21,36,23,9,75,0,76,44,20,45,35,14,0,61,33,97,34,31,33,95],[78,17,53,28,22,75,31,67,15,94,3,80,4,62,16,14,9,53,56,92],[16,39,5,42,96,35,31,47,55,58,88,24,0,17,54,24,36,29,85,57],[86,56,0,48,35,71,89,7,5,44,44,37,44,60,21,58,51,54,17,58],[19,80,81,68,5,94,47,69,28,73,92,13,86,52,17,77,4,89,55,40],[4,52,8,83,97,35,99,16,7,97,57,32,16,26,26,79,33,27,98,66],[88,36,68,87,57,62,20,72,3,46,33,67,46,55,12,32,63,93,53,69],[4,42,16,73,38,25,39,11,24,94,72,18,8,46,29,32,40,62,76,36],[20,69,36,41,72,30,23,88,34,62,99,69,82,67,59,85,74,4,36,16],[20,73,35,29,78,31,90,1,74,31,49,71,48,86,81,16,23,57,5,54],[1,70,54,71,83,51,54,69,16,92,33,48,61,43,52,1,89,19,67,48]]"
   ]
  },
  {
   "cell_type": "code",
   "execution_count": 5,
   "metadata": {},
   "outputs": [
    {
     "name": "stdout",
     "output_type": "stream",
     "text": [
      "Horizontal: 34144 0 0\n",
      "Horizontal: 162184 0 1\n",
      "Horizontal: 1216380 0 2\n",
      "Horizontal: 2433600 0 13\n",
      "Horizontal: 4204200 0 15\n",
      "Horizontal: 9507960 1 0\n",
      "Horizontal: 11630640 1 11\n",
      "Horizontal: 13956768 1 12\n",
      "Horizontal: 17696040 2 8\n",
      "Horizontal: 19159119 4 4\n",
      "Horizontal: 21149604 4 6\n",
      "Horizontal: 21941010 7 8\n",
      "Horizontal: 27663636 7 15\n",
      "Horizontal: 48477312 8 10\n",
      "Vertical: 1651104 0 0\n",
      "Vertical: 6414210 0 2\n",
      "Vertical: 6514520 0 3\n",
      "Vertical: 11118600 0 9\n",
      "Vertical: 25723980 1 5\n",
      "Vertical: 27832896 5 12\n",
      "Vertical: 51267216 6 15\n",
      "L Diagonal: 279496 0 0\n",
      "L Diagonal: 2904000 0 2\n",
      "L Diagonal: 11587200 0 7\n",
      "L Diagonal: 16194745 1 0\n",
      "L Diagonal: 32719995 2 1\n",
      "R Diagonal: 3298400 0 4\n",
      "R Diagonal: 34826064 0 13\n",
      "R Diagonal: 41076896 1 12\n",
      "R Diagonal: 70600674 12 6\n",
      "48477312 51267216 32719995 70600674\n"
     ]
    }
   ],
   "source": [
    "max_h_prod = 0\n",
    "max_v_prod = 0\n",
    "max_ld_prod = 0\n",
    "max_rd_prod = 0\n",
    "adj = 4\n",
    "grid_size = 20\n",
    "\n",
    "#Horizontal\n",
    "for row in range(0, grid_size):\n",
    "    for col in range(0, grid_size - adj):\n",
    "        check_prod = 1\n",
    "        for n in range(0, adj):\n",
    "            check_prod *= grid[row][col+n]\n",
    "        if check_prod > max_h_prod:\n",
    "            max_h_prod = check_prod\n",
    "            print(\"Horizontal:\",max_h_prod, row, col)\n",
    "\n",
    "#Vertical\n",
    "for row in range(0, grid_size-adj):\n",
    "    for col in range(0, grid_size):\n",
    "        check_prod = 1\n",
    "        for n in range(0, adj):\n",
    "            check_prod *= grid[row+n][col]\n",
    "        if check_prod > max_v_prod:\n",
    "            max_v_prod = check_prod\n",
    "            print(\"Vertical:\", max_v_prod, row, col)\n",
    "\n",
    "#Left Diagonal\n",
    "for row in range(0, grid_size-adj):\n",
    "    for col in range(0, grid_size - adj):\n",
    "        check_prod = 1\n",
    "        for n in range(0, adj):\n",
    "            check_prod *= grid[row+n][col+n]\n",
    "        if check_prod > max_ld_prod:\n",
    "            max_ld_prod = check_prod\n",
    "            print(\"L Diagonal:\",max_ld_prod, row, col)\n",
    "\n",
    "#Right Diagonal\n",
    "for row in range(0, grid_size-adj):\n",
    "    for col in range(adj, grid_size):\n",
    "        check_prod = 1\n",
    "        for n in range(0, adj):\n",
    "            check_prod *= grid[row+n][col-n]\n",
    "        if check_prod > max_rd_prod:\n",
    "            max_rd_prod = check_prod\n",
    "            print(\"R Diagonal:\",max_rd_prod, row, col)\n",
    "\n",
    "print(max_h_prod, max_v_prod, max_ld_prod, max_rd_prod)"
   ]
  },
  {
   "cell_type": "code",
   "execution_count": null,
   "metadata": {},
   "outputs": [],
   "source": []
  }
 ],
 "metadata": {
  "kernelspec": {
   "display_name": "Python 3",
   "language": "python",
   "name": "python3"
  },
  "language_info": {
   "codemirror_mode": {
    "name": "ipython",
    "version": 3
   },
   "file_extension": ".py",
   "mimetype": "text/x-python",
   "name": "python",
   "nbconvert_exporter": "python",
   "pygments_lexer": "ipython3",
   "version": "3.7.0"
  }
 },
 "nbformat": 4,
 "nbformat_minor": 2
}
