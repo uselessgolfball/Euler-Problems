{
 "cells": [
  {
   "cell_type": "markdown",
   "metadata": {},
   "source": [
    "\n",
    "\n",
    "Starting in the top left corner of a 2×2 grid, and only being able to move to the right and down, there are exactly 6 routes to the bottom right corner.\n",
    "\n",
    "How many such routes are there through a 20×20 grid?\n"
   ]
  },
  {
   "cell_type": "code",
   "execution_count": 1,
   "metadata": {},
   "outputs": [],
   "source": [
    "#2x2 grid has 4 total steps, 2 horiz, and 2 vert\n",
    "#Once you hit max horiz or max vert, all remaining steps are determined\n",
    "#last step is always determined\n",
    "#for nxn grid\n",
    "#(2n-1) real steps with choice\n",
    "#After n steps, 2**n options, but 2**(n-n) are fully constrained\n",
    "#After m steps, where m > n, 2**(m-n) are fully constrained\n",
    "#After 2n steps, all of the max 2**n options are fully constrained (2**(2n-n))\n",
    "\n",
    "#in example\n",
    "#Step 1: 2**1 options = 2\n",
    "#Step 2: 2**2 options = 4, of which 2 are fully constrained (LL and DD), 2 are non-constrained = NC\n",
    "#Step 3: 2 fully constrained options + NC**2 = 6, all of which are fully constrained\n",
    "\n",
    "\n",
    "#For a 3x3 example\n",
    "#step 1: 2\n",
    "#step 2: 4\n",
    "#Step 3: 8, 2 are constrained (LLL, DDD)\n",
    "#Step 4: 2+6*2 = 14 of which (LLLD, DDDL) (LLDL, LDLL, DLLL, DDlD, DLDD, LDDD) 8 are fully constrained (6 additional)\n"
   ]
  },
  {
   "cell_type": "code",
   "execution_count": 6,
   "metadata": {},
   "outputs": [],
   "source": [
    "#Simple tree (unconstrained by location, you get 2**n paths at the midway point (n steps))"
   ]
  },
  {
   "cell_type": "code",
   "execution_count": 11,
   "metadata": {},
   "outputs": [
    {
     "name": "stdout",
     "output_type": "stream",
     "text": [
      "2 0\n",
      "4 0\n",
      "8 0\n",
      "16 0\n",
      "32 0\n",
      "64 0\n",
      "128 0\n",
      "256 0\n",
      "512 0\n",
      "1024 0\n",
      "2048 0\n",
      "4096 0\n",
      "8192 0\n",
      "16384 0\n",
      "32768 0\n",
      "65536 0\n",
      "131072 0\n",
      "262144 0\n",
      "524288 0\n",
      "1048574 2\n",
      "2097142 6\n",
      "4194270 14\n",
      "8388510 30\n",
      "16776958 62\n",
      "33553790 126\n",
      "67107326 254\n",
      "134214142 510\n",
      "268427262 1022\n",
      "536852478 2046\n",
      "1073700862 4094\n",
      "2147393534 8190\n",
      "4294770686 16382\n",
      "8589508606 32766\n",
      "17178951678 65534\n",
      "34357772286 131070\n",
      "68715282430 262142\n",
      "137430040574 524286\n",
      "274859032574 1048574\n",
      "549715967998 2097150\n"
     ]
    }
   ],
   "source": [
    "n = 20\n",
    "FC = 0\n",
    "NC = 1\n",
    "\n",
    "for num in range(1,2*n):\n",
    "    if num < n:\n",
    "        NC = NC*2\n",
    "    if num >= n:\n",
    "        NC *= 2\n",
    "        FC += 2**(num-n+1)\n",
    "        NC -= FC\n",
    "    print(NC, FC)"
   ]
  },
  {
   "cell_type": "code",
   "execution_count": null,
   "metadata": {},
   "outputs": [],
   "source": []
  }
 ],
 "metadata": {
  "kernelspec": {
   "display_name": "Python 3",
   "language": "python",
   "name": "python3"
  },
  "language_info": {
   "codemirror_mode": {
    "name": "ipython",
    "version": 3
   },
   "file_extension": ".py",
   "mimetype": "text/x-python",
   "name": "python",
   "nbconvert_exporter": "python",
   "pygments_lexer": "ipython3",
   "version": "3.7.0"
  }
 },
 "nbformat": 4,
 "nbformat_minor": 2
}
