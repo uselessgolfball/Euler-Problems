{
 "cells": [
  {
   "cell_type": "markdown",
   "metadata": {},
   "source": [
    "\n",
    "\n",
    "Surprisingly there are only three numbers that can be written as the sum of fourth powers of their digits:\n",
    "\n",
    "    1634 = 14 + 64 + 34 + 44\n",
    "    8208 = 84 + 24 + 04 + 84\n",
    "    9474 = 94 + 44 + 74 + 44\n",
    "\n",
    "As 1 = 14 is not a sum it is not included.\n",
    "\n",
    "The sum of these numbers is 1634 + 8208 + 9474 = 19316.\n",
    "\n",
    "Find the sum of all the numbers that can be written as the sum of fifth powers of their digits.\n"
   ]
  },
  {
   "cell_type": "code",
   "execution_count": 1,
   "metadata": {},
   "outputs": [
    {
     "data": {
      "text/plain": [
       "[5, 4, 8]"
      ]
     },
     "execution_count": 1,
     "metadata": {},
     "output_type": "execute_result"
    }
   ],
   "source": [
    "# Function to create list of digits from number\n",
    "def digitList(n):\n",
    "    num_str = str(n)\n",
    "    digits = []\n",
    "    for char in num_str:\n",
    "        digits.append(int(char))\n",
    "    return digits\n",
    "\n",
    "digitList(548)"
   ]
  },
  {
   "cell_type": "code",
   "execution_count": 3,
   "metadata": {},
   "outputs": [
    {
     "data": {
      "text/plain": [
       "False"
      ]
     },
     "execution_count": 3,
     "metadata": {},
     "output_type": "execute_result"
    }
   ],
   "source": [
    "# Function to test sum of 5th power digits\n",
    "def sumOf5thPowerDigits(n):\n",
    "    digits = digitList(n)\n",
    "    sum5ths = 0\n",
    "\n",
    "    for i in digits:\n",
    "        sum5ths += i**5\n",
    "    if n == sum5ths:\n",
    "        return True\n",
    "    else:\n",
    "        return False\n",
    "\n",
    "sumOf5thPowerDigits(1634)"
   ]
  },
  {
   "cell_type": "code",
   "execution_count": 7,
   "metadata": {},
   "outputs": [
    {
     "name": "stdout",
     "output_type": "stream",
     "text": [
      "[4150, 4151, 54748, 92727, 93084, 194979]\n"
     ]
    }
   ],
   "source": [
    "power5ths = []\n",
    "\n",
    "for n in range(10,(9**5)*6):\n",
    "    if sumOf5thPowerDigits(n):\n",
    "        power5ths.append(n)\n",
    "\n",
    "print(power5ths)"
   ]
  },
  {
   "cell_type": "code",
   "execution_count": 8,
   "metadata": {},
   "outputs": [
    {
     "data": {
      "text/plain": [
       "443839"
      ]
     },
     "execution_count": 8,
     "metadata": {},
     "output_type": "execute_result"
    }
   ],
   "source": [
    "sum(power5ths)"
   ]
  },
  {
   "cell_type": "code",
   "execution_count": null,
   "metadata": {},
   "outputs": [],
   "source": []
  }
 ],
 "metadata": {
  "kernelspec": {
   "display_name": "Python 3",
   "language": "python",
   "name": "python3"
  },
  "language_info": {
   "codemirror_mode": {
    "name": "ipython",
    "version": 3
   },
   "file_extension": ".py",
   "mimetype": "text/x-python",
   "name": "python",
   "nbconvert_exporter": "python",
   "pygments_lexer": "ipython3",
   "version": "3.7.0"
  }
 },
 "nbformat": 4,
 "nbformat_minor": 2
}
