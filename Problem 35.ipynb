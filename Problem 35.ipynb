{
 "cells": [
  {
   "cell_type": "markdown",
   "metadata": {},
   "source": [
    "\n",
    "\n",
    "The number, 197, is called a circular prime because all rotations of the digits: 197, 971, and 719, are themselves prime.\n",
    "\n",
    "There are thirteen such primes below 100: 2, 3, 5, 7, 11, 13, 17, 31, 37, 71, 73, 79, and 97.\n",
    "\n",
    "How many circular primes are there below one million?\n"
   ]
  },
  {
   "cell_type": "code",
   "execution_count": 40,
   "metadata": {},
   "outputs": [],
   "source": [
    "import itertools"
   ]
  },
  {
   "cell_type": "code",
   "execution_count": 41,
   "metadata": {},
   "outputs": [],
   "source": [
    "def isPrime(n):\n",
    "    if n == 1: #1 not prime\n",
    "        return False\n",
    "    elif n < 4: #2,3 prime\n",
    "        return True\n",
    "    elif n%2 == 0: #evens not prime\n",
    "        return False\n",
    "    elif n<9: #odds below 9 are prime\n",
    "        return True\n",
    "    elif n%3 == 0: #removes divisible by 3\n",
    "        return False\n",
    "    else:\n",
    "        r = round(n**0.5)\n",
    "        f = 5\n",
    "        while f <= r:\n",
    "            if n%f == 0:\n",
    "                return False\n",
    "            if n%(f+2) == 0:\n",
    "                return False\n",
    "            f += 6\n",
    "        return True\n",
    "\n",
    "primes = []\n",
    "for i in range(1, 1000000):\n",
    "    if isPrime(i):\n",
    "        primes.append(i)"
   ]
  },
  {
   "cell_type": "code",
   "execution_count": 42,
   "metadata": {},
   "outputs": [
    {
     "name": "stdout",
     "output_type": "stream",
     "text": [
      "78498\n"
     ]
    }
   ],
   "source": [
    "print(len(primes))"
   ]
  },
  {
   "cell_type": "code",
   "execution_count": 49,
   "metadata": {},
   "outputs": [],
   "source": [
    "primes_no_2s = [2]\n",
    "\n",
    "for num in primes:\n",
    "    check = 0\n",
    "    for c in map(int, str(num)):\n",
    "        if c%2 == 0:\n",
    "            check += 1\n",
    "    if check == 0:\n",
    "        primes_no_2s.append(num)"
   ]
  },
  {
   "cell_type": "code",
   "execution_count": 50,
   "metadata": {},
   "outputs": [
    {
     "name": "stdout",
     "output_type": "stream",
     "text": [
      "3218\n"
     ]
    }
   ],
   "source": [
    "print(len(primes_no_2s))"
   ]
  },
  {
   "cell_type": "code",
   "execution_count": 59,
   "metadata": {},
   "outputs": [],
   "source": [
    "def rotation(N):\n",
    "    output = []\n",
    "    for i in range(len(N)):\n",
    "        output.append(N[i:]+ N[:i])\n",
    "    return output\n",
    "\n",
    "def circularRotations(n):\n",
    "    circular = []\n",
    "    digits = []\n",
    "    #pulls digits for set creation\n",
    "    for c in str(n):\n",
    "        digits.append(c)\n",
    "    #generates list\n",
    "    rotations = rotation(digits)\n",
    "    #returns them to number format\n",
    "    for item in rotations:\n",
    "        s = \"\"\n",
    "        for c in item:\n",
    "            s += c\n",
    "        circular.append(int(s))\n",
    "    return circular\n",
    "    "
   ]
  },
  {
   "cell_type": "code",
   "execution_count": 60,
   "metadata": {},
   "outputs": [
    {
     "data": {
      "text/plain": [
       "[135, 351, 513]"
      ]
     },
     "execution_count": 60,
     "metadata": {},
     "output_type": "execute_result"
    }
   ],
   "source": [
    "circularRotations(135)"
   ]
  },
  {
   "cell_type": "code",
   "execution_count": 61,
   "metadata": {},
   "outputs": [
    {
     "name": "stdout",
     "output_type": "stream",
     "text": [
      "55\n"
     ]
    }
   ],
   "source": [
    "primes_no_circs = []\n",
    "\n",
    "for prime in primes_no_2s:\n",
    "    circs = circularRotations(prime)\n",
    "    check = 0\n",
    "    for num in circs:\n",
    "        if num not in primes_no_2s:\n",
    "            check += 1\n",
    "    if check == 0:\n",
    "        primes_no_circs.append(prime)\n",
    "        \n",
    "\n",
    "print(len(primes_no_circs))"
   ]
  },
  {
   "cell_type": "code",
   "execution_count": 62,
   "metadata": {},
   "outputs": [
    {
     "name": "stdout",
     "output_type": "stream",
     "text": [
      "[2, 3, 5, 7, 11, 13, 17, 31, 37, 71, 73, 79, 97, 113, 131, 197, 199, 311, 337, 373, 719, 733, 919, 971, 991, 1193, 1931, 3119, 3779, 7793, 7937, 9311, 9377, 11939, 19391, 19937, 37199, 39119, 71993, 91193, 93719, 93911, 99371, 193939, 199933, 319993, 331999, 391939, 393919, 919393, 933199, 939193, 939391, 993319, 999331]\n"
     ]
    }
   ],
   "source": [
    "print(primes_no_circs)"
   ]
  },
  {
   "cell_type": "code",
   "execution_count": 63,
   "metadata": {},
   "outputs": [
    {
     "data": {
      "text/plain": [
       "[179, 791, 917]"
      ]
     },
     "execution_count": 63,
     "metadata": {},
     "output_type": "execute_result"
    }
   ],
   "source": [
    "circularRotations(179)"
   ]
  },
  {
   "cell_type": "code",
   "execution_count": null,
   "metadata": {},
   "outputs": [],
   "source": []
  }
 ],
 "metadata": {
  "kernelspec": {
   "display_name": "Python 3",
   "language": "python",
   "name": "python3"
  },
  "language_info": {
   "codemirror_mode": {
    "name": "ipython",
    "version": 3
   },
   "file_extension": ".py",
   "mimetype": "text/x-python",
   "name": "python",
   "nbconvert_exporter": "python",
   "pygments_lexer": "ipython3",
   "version": "3.7.0"
  }
 },
 "nbformat": 4,
 "nbformat_minor": 2
}
