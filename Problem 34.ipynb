{
 "cells": [
  {
   "cell_type": "markdown",
   "metadata": {},
   "source": [
    "\n",
    "\n",
    "145 is a curious number, as 1! + 4! + 5! = 1 + 24 + 120 = 145.\n",
    "\n",
    "Find the sum of all numbers which are equal to the sum of the factorial of their digits.\n",
    "\n",
    "Note: as 1! = 1 and 2! = 2 are not sums they are not included.\n"
   ]
  },
  {
   "cell_type": "code",
   "execution_count": 6,
   "metadata": {},
   "outputs": [
    {
     "name": "stdout",
     "output_type": "stream",
     "text": [
      "[145, 40585]\n",
      "40730\n"
     ]
    }
   ],
   "source": [
    "import math\n",
    "\n",
    "# math.factorial(9)*7=2540160, upper bound for search\n",
    "\n",
    "def sumFacDigits(n):\n",
    "    digit = 0\n",
    "    for char in str(n):\n",
    "        digit += math.factorial(int(char))\n",
    "    return digit\n",
    "\n",
    "equal_sums = []\n",
    "\n",
    "for num in range(3,2540160):\n",
    "    if sumFacDigits(num) == num:\n",
    "        equal_sums.append(num)\n",
    "        \n",
    "print(equal_sums)\n",
    "print(sum(equal_sums))"
   ]
  },
  {
   "cell_type": "code",
   "execution_count": null,
   "metadata": {},
   "outputs": [],
   "source": []
  }
 ],
 "metadata": {
  "kernelspec": {
   "display_name": "Python 3",
   "language": "python",
   "name": "python3"
  },
  "language_info": {
   "codemirror_mode": {
    "name": "ipython",
    "version": 3
   },
   "file_extension": ".py",
   "mimetype": "text/x-python",
   "name": "python",
   "nbconvert_exporter": "python",
   "pygments_lexer": "ipython3",
   "version": "3.7.0"
  }
 },
 "nbformat": 4,
 "nbformat_minor": 2
}
