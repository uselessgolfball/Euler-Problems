{
 "cells": [
  {
   "cell_type": "markdown",
   "metadata": {},
   "source": [
    "\n",
    "\n",
    "The first two consecutive numbers to have two distinct prime factors are:\n",
    "\n",
    "14 = 2 × 7\n",
    "15 = 3 × 5\n",
    "\n",
    "The first three consecutive numbers to have three distinct prime factors are:\n",
    "\n",
    "644 = 2² × 7 × 23\n",
    "645 = 3 × 5 × 43\n",
    "646 = 2 × 17 × 19.\n",
    "\n",
    "Find the first four consecutive integers to have four distinct prime factors each. What is the first of these numbers?\n"
   ]
  },
  {
   "cell_type": "code",
   "execution_count": null,
   "metadata": {},
   "outputs": [],
   "source": [
    "#Use list of primes\n",
    "#Build prime factors for numbers\n",
    "#If distinct prime factors = 4, counter += 1\n",
    "#If distinct prime factors != 4, counter = 0"
   ]
  },
  {
   "cell_type": "code",
   "execution_count": null,
   "metadata": {},
   "outputs": [],
   "source": [
    "#Prime builder\n",
    "def isPrime(n):\n",
    "    if n == 1: #1 not prime\n",
    "        return False\n",
    "    elif n < 4: #2,3 prime\n",
    "        return True\n",
    "    elif n%2 == 0: #evens not prime\n",
    "        return False\n",
    "    elif n<9: #odds below 9 are prime\n",
    "        return True\n",
    "    elif n%3 == 0: #removes divisible by 3\n",
    "        return False\n",
    "    else:\n",
    "        r = round(n**0.5)\n",
    "        f = 5\n",
    "        while f <= r:\n",
    "            if n%f == 0:\n",
    "                return False\n",
    "            if n%(f+2) == 0:\n",
    "                return False\n",
    "            f += 6\n",
    "        return True\n",
    "\n",
    "primes = []\n",
    "for i in range(1, 1000000):\n",
    "    if isPrime(i):\n",
    "        primes.append(i)"
   ]
  },
  {
   "cell_type": "code",
   "execution_count": null,
   "metadata": {},
   "outputs": [],
   "source": [
    "#Prime Factorizer\n",
    "\n",
    "def primeFactorDistinct(num):\n",
    "    output = []\n",
    "    i = 0\n",
    "    while num > 1:\n",
    "        if num in primes:\n",
    "            output.append(num)\n",
    "            num = 1\n",
    "        if num%primes[i] == 0:\n",
    "            output.append(primes[i])\n",
    "            # Only add one iteration of prime factor to list, but remove all copies\n",
    "            while num%primes[i] == 0:\n",
    "                num = num/primes[i]\n",
    "        i += 1\n",
    "    return output"
   ]
  },
  {
   "cell_type": "code",
   "execution_count": null,
   "metadata": {},
   "outputs": [],
   "source": [
    "# Create set to check against for numbers with 2 prime factors (not including high powers)"
   ]
  },
  {
   "cell_type": "code",
   "execution_count": null,
   "metadata": {},
   "outputs": [],
   "source": [
    "counter = 0\n",
    "n = 7000\n",
    "\n",
    "while counter < 4:\n",
    "    \n",
    "    if len(primeFactorDistinct(n)) == 4:\n",
    "        counter += 1\n",
    "    else:\n",
    "        counter = 0\n",
    "    n += 1\n",
    "\n",
    "for i in range(4):\n",
    "    print(n-i-1, primeFactorDistinct(n-i-1))"
   ]
  },
  {
   "cell_type": "code",
   "execution_count": null,
   "metadata": {},
   "outputs": [],
   "source": [
    "len(primes)"
   ]
  },
  {
   "cell_type": "code",
   "execution_count": null,
   "metadata": {},
   "outputs": [],
   "source": [
    "primeFactorDistinct(134043)"
   ]
  },
  {
   "cell_type": "code",
   "execution_count": null,
   "metadata": {},
   "outputs": [],
   "source": []
  }
 ],
 "metadata": {
  "kernelspec": {
   "display_name": "Python 3",
   "language": "python",
   "name": "python3"
  },
  "language_info": {
   "codemirror_mode": {
    "name": "ipython",
    "version": 3
   },
   "file_extension": ".py",
   "mimetype": "text/x-python",
   "name": "python",
   "nbconvert_exporter": "python",
   "pygments_lexer": "ipython3",
   "version": "3.7.0"
  }
 },
 "nbformat": 4,
 "nbformat_minor": 2
}
